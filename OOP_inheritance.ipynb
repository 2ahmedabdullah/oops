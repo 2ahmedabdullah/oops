{
  "nbformat": 4,
  "nbformat_minor": 0,
  "metadata": {
    "colab": {
      "provenance": []
    },
    "kernelspec": {
      "name": "python3",
      "display_name": "Python 3"
    },
    "language_info": {
      "name": "python"
    }
  },
  "cells": [
    {
      "cell_type": "code",
      "execution_count": 1,
      "metadata": {
        "id": "1LHpLx0hAILg"
      },
      "outputs": [],
      "source": [
        "# step 1 create 2 independent class\n",
        "class User:\n",
        "\n",
        "  def __init__(self):\n",
        "    self.name = 'sachin'\n",
        "    self.password = 'sachin'\n",
        "\n",
        "  def login(self):\n",
        "    print('login')\n",
        "\n",
        "\n",
        "class Student:\n",
        "\n",
        "  def __init__(self):\n",
        "    self.rollno = 131\n",
        "\n",
        "  def enroll(self):\n",
        "    print('you are enrolled')\n",
        "\n"
      ]
    },
    {
      "cell_type": "markdown",
      "source": [
        "Constructor Over ridding bcoz of 2 constructors"
      ],
      "metadata": {
        "id": "q1QAs9QRGWXM"
      }
    },
    {
      "cell_type": "code",
      "source": [
        "# Linking  2 independent class\n",
        "\n",
        "# parent class\n",
        "class User:\n",
        "\n",
        "  def __init__(self):\n",
        "    self.name = 'sachin'\n",
        "    self.password = 'sachin'\n",
        "    print('This is Parent Constructor')\n",
        "\n",
        "\n",
        "  def login(self):\n",
        "    print('login')\n",
        "\n",
        "\n",
        "# child class here\n",
        "class Student(User):\n",
        "\n",
        "  def __init__(self):\n",
        "    self.rollno = 131\n",
        "    print('This is Child Constructor')\n",
        "\n",
        "\n",
        "  def enroll(self):\n",
        "    print('you are enrolled')\n",
        "\n"
      ],
      "metadata": {
        "id": "Ft95GCwkBAm3"
      },
      "execution_count": 11,
      "outputs": []
    },
    {
      "cell_type": "code",
      "source": [
        "s = Student()"
      ],
      "metadata": {
        "colab": {
          "base_uri": "https://localhost:8080/"
        },
        "id": "TqCHDU37FI-k",
        "outputId": "e83ebe09-6f2c-4479-898d-b172c26a700b"
      },
      "execution_count": 14,
      "outputs": [
        {
          "output_type": "stream",
          "name": "stdout",
          "text": [
            "This is Child Constructor\n"
          ]
        }
      ]
    },
    {
      "cell_type": "code",
      "source": [
        "# error is bcoz the Parent CONSTRUCTOR will not be CALLED\n",
        "s.name"
      ],
      "metadata": {
        "colab": {
          "base_uri": "https://localhost:8080/",
          "height": 171
        },
        "id": "6qZwl09VFMw-",
        "outputId": "eec89c0e-8ecb-4ae5-8e46-e6713dc8dd91"
      },
      "execution_count": 13,
      "outputs": [
        {
          "output_type": "error",
          "ename": "AttributeError",
          "evalue": "ignored",
          "traceback": [
            "\u001b[0;31m---------------------------------------------------------------------------\u001b[0m",
            "\u001b[0;31mAttributeError\u001b[0m                            Traceback (most recent call last)",
            "\u001b[0;32m<ipython-input-13-98b019fbfe94>\u001b[0m in \u001b[0;36m<module>\u001b[0;34m\u001b[0m\n\u001b[0;32m----> 1\u001b[0;31m \u001b[0ms\u001b[0m\u001b[0;34m.\u001b[0m\u001b[0mname\u001b[0m\u001b[0;34m\u001b[0m\u001b[0;34m\u001b[0m\u001b[0m\n\u001b[0m",
            "\u001b[0;31mAttributeError\u001b[0m: 'Student' object has no attribute 'name'"
          ]
        }
      ]
    },
    {
      "cell_type": "markdown",
      "source": [
        "Inheritance Example"
      ],
      "metadata": {
        "id": "MgH1Q6NpGc8s"
      }
    },
    {
      "cell_type": "code",
      "source": [
        "class Phone:\n",
        "\n",
        "  def __init__(self):\n",
        "    self.name = 'samsung'\n",
        "    self.model = 'galaxy'\n",
        "    self.price = 10000\n",
        "    print('This is Parent Constructor')\n",
        "\n",
        "  def buy(self):\n",
        "    print('buy this product')\n",
        "\n",
        "class SmartPhone(Phone):\n",
        "  pass"
      ],
      "metadata": {
        "id": "O5SZwP0lFlFi"
      },
      "execution_count": 8,
      "outputs": []
    },
    {
      "cell_type": "code",
      "source": [
        "obj = SmartPhone()"
      ],
      "metadata": {
        "colab": {
          "base_uri": "https://localhost:8080/"
        },
        "id": "z8lLuYHWLcT9",
        "outputId": "3216f0ae-5da3-44ca-a8ad-9d701812ea7c"
      },
      "execution_count": 9,
      "outputs": [
        {
          "output_type": "stream",
          "name": "stdout",
          "text": [
            "This is Parent Constructor\n"
          ]
        }
      ]
    },
    {
      "cell_type": "code",
      "source": [
        "print(obj.name)\n",
        "print(obj.model)\n",
        "print(obj.price)"
      ],
      "metadata": {
        "colab": {
          "base_uri": "https://localhost:8080/"
        },
        "id": "Qks7r0vwLfee",
        "outputId": "8d237823-e98c-41ec-dbb4-cd0282dccedf"
      },
      "execution_count": 10,
      "outputs": [
        {
          "output_type": "stream",
          "name": "stdout",
          "text": [
            "samsung\n",
            "galaxy\n",
            "10000\n"
          ]
        }
      ]
    },
    {
      "cell_type": "code",
      "source": [
        "# child cannot access Parents private attributes and methods\n",
        "\n",
        "class Phone:\n",
        "\n",
        "  def __init__(self):\n",
        "    self.__name = 'samsung'\n",
        "    self.model = 'galaxy'\n",
        "    self.price = 10000\n",
        "    print('This is Parent Constructor')\n",
        "\n",
        "  def show(self):\n",
        "    print('this is not private ')\n",
        "\n",
        "  def __notallowed(self):\n",
        "    print('this is not private matter')\n",
        "    \n",
        "class SmartPhone(Phone):\n",
        "  def names(self):\n",
        "    print(self.__name)\n",
        "\n",
        "\n",
        "obj = SmartPhone()\n",
        "print(obj.model)\n",
        "print(obj.price)\n",
        "obj.names()"
      ],
      "metadata": {
        "colab": {
          "base_uri": "https://localhost:8080/",
          "height": 391
        },
        "id": "-hUAYRRbLldm",
        "outputId": "db0a6d01-ce3e-478b-ac0b-a1fafd2b7980"
      },
      "execution_count": 22,
      "outputs": [
        {
          "output_type": "stream",
          "name": "stdout",
          "text": [
            "This is Parent Constructor\n",
            "galaxy\n",
            "10000\n"
          ]
        },
        {
          "output_type": "error",
          "ename": "AttributeError",
          "evalue": "ignored",
          "traceback": [
            "\u001b[0;31m---------------------------------------------------------------------------\u001b[0m",
            "\u001b[0;31mAttributeError\u001b[0m                            Traceback (most recent call last)",
            "\u001b[0;32m<ipython-input-22-d252cbc11ce9>\u001b[0m in \u001b[0;36m<module>\u001b[0;34m\u001b[0m\n\u001b[1;32m     23\u001b[0m \u001b[0mprint\u001b[0m\u001b[0;34m(\u001b[0m\u001b[0mobj\u001b[0m\u001b[0;34m.\u001b[0m\u001b[0mmodel\u001b[0m\u001b[0;34m)\u001b[0m\u001b[0;34m\u001b[0m\u001b[0;34m\u001b[0m\u001b[0m\n\u001b[1;32m     24\u001b[0m \u001b[0mprint\u001b[0m\u001b[0;34m(\u001b[0m\u001b[0mobj\u001b[0m\u001b[0;34m.\u001b[0m\u001b[0mprice\u001b[0m\u001b[0;34m)\u001b[0m\u001b[0;34m\u001b[0m\u001b[0;34m\u001b[0m\u001b[0m\n\u001b[0;32m---> 25\u001b[0;31m \u001b[0mobj\u001b[0m\u001b[0;34m.\u001b[0m\u001b[0mnames\u001b[0m\u001b[0;34m(\u001b[0m\u001b[0;34m)\u001b[0m\u001b[0;34m\u001b[0m\u001b[0;34m\u001b[0m\u001b[0m\n\u001b[0m",
            "\u001b[0;32m<ipython-input-22-d252cbc11ce9>\u001b[0m in \u001b[0;36mnames\u001b[0;34m(self)\u001b[0m\n\u001b[1;32m     17\u001b[0m \u001b[0;32mclass\u001b[0m \u001b[0mSmartPhone\u001b[0m\u001b[0;34m(\u001b[0m\u001b[0mPhone\u001b[0m\u001b[0;34m)\u001b[0m\u001b[0;34m:\u001b[0m\u001b[0;34m\u001b[0m\u001b[0;34m\u001b[0m\u001b[0m\n\u001b[1;32m     18\u001b[0m   \u001b[0;32mdef\u001b[0m \u001b[0mnames\u001b[0m\u001b[0;34m(\u001b[0m\u001b[0mself\u001b[0m\u001b[0;34m)\u001b[0m\u001b[0;34m:\u001b[0m\u001b[0;34m\u001b[0m\u001b[0;34m\u001b[0m\u001b[0m\n\u001b[0;32m---> 19\u001b[0;31m     \u001b[0mprint\u001b[0m\u001b[0;34m(\u001b[0m\u001b[0mself\u001b[0m\u001b[0;34m.\u001b[0m\u001b[0m__name\u001b[0m\u001b[0;34m)\u001b[0m\u001b[0;34m\u001b[0m\u001b[0;34m\u001b[0m\u001b[0m\n\u001b[0m\u001b[1;32m     20\u001b[0m \u001b[0;34m\u001b[0m\u001b[0m\n\u001b[1;32m     21\u001b[0m \u001b[0;34m\u001b[0m\u001b[0m\n",
            "\u001b[0;31mAttributeError\u001b[0m: 'SmartPhone' object has no attribute '_SmartPhone__name'"
          ]
        }
      ]
    },
    {
      "cell_type": "code",
      "source": [
        "obj = SmartPhone()\n",
        "print(obj.model)\n",
        "print(obj.price)\n",
        "obj.show()\n",
        "obj.__notallowed()"
      ],
      "metadata": {
        "colab": {
          "base_uri": "https://localhost:8080/",
          "height": 281
        },
        "id": "0kX93j-wOWdZ",
        "outputId": "8c2ae964-faef-48e7-c408-99fe9a2c6e25"
      },
      "execution_count": 23,
      "outputs": [
        {
          "output_type": "stream",
          "name": "stdout",
          "text": [
            "This is Parent Constructor\n",
            "galaxy\n",
            "10000\n",
            "this is not private \n"
          ]
        },
        {
          "output_type": "error",
          "ename": "AttributeError",
          "evalue": "ignored",
          "traceback": [
            "\u001b[0;31m---------------------------------------------------------------------------\u001b[0m",
            "\u001b[0;31mAttributeError\u001b[0m                            Traceback (most recent call last)",
            "\u001b[0;32m<ipython-input-23-f9b7b1fc1d0e>\u001b[0m in \u001b[0;36m<module>\u001b[0;34m\u001b[0m\n\u001b[1;32m      3\u001b[0m \u001b[0mprint\u001b[0m\u001b[0;34m(\u001b[0m\u001b[0mobj\u001b[0m\u001b[0;34m.\u001b[0m\u001b[0mprice\u001b[0m\u001b[0;34m)\u001b[0m\u001b[0;34m\u001b[0m\u001b[0;34m\u001b[0m\u001b[0m\n\u001b[1;32m      4\u001b[0m \u001b[0mobj\u001b[0m\u001b[0;34m.\u001b[0m\u001b[0mshow\u001b[0m\u001b[0;34m(\u001b[0m\u001b[0;34m)\u001b[0m\u001b[0;34m\u001b[0m\u001b[0;34m\u001b[0m\u001b[0m\n\u001b[0;32m----> 5\u001b[0;31m \u001b[0mobj\u001b[0m\u001b[0;34m.\u001b[0m\u001b[0m__notallowed\u001b[0m\u001b[0;34m(\u001b[0m\u001b[0;34m)\u001b[0m\u001b[0;34m\u001b[0m\u001b[0;34m\u001b[0m\u001b[0m\n\u001b[0m",
            "\u001b[0;31mAttributeError\u001b[0m: 'SmartPhone' object has no attribute '__notallowed'"
          ]
        }
      ]
    },
    {
      "cell_type": "code",
      "source": [
        "# Access Parents private attributes and methods USING GET \n",
        "\n",
        "class Phone:\n",
        "\n",
        "  def __init__(self):\n",
        "    self.__name = 'samsung'\n",
        "    self.model = 'galaxy'\n",
        "    self.price = 10000\n",
        "    print('This is Parent Constructor')\n",
        "\n",
        "  def show(self):\n",
        "    print('this is not private ')\n",
        "\n",
        "  def get_name(self):\n",
        "    return self.__name\n",
        "    \n",
        "class SmartPhone(Phone):\n",
        "  \n",
        "  def names(self):\n",
        "    print(self.__name)\n",
        "\n",
        "\n",
        "obj = SmartPhone()\n",
        "print(obj.model)\n",
        "print(obj.price)\n",
        "obj.get_name()"
      ],
      "metadata": {
        "colab": {
          "base_uri": "https://localhost:8080/",
          "height": 90
        },
        "id": "dWV1QkxtPHjx",
        "outputId": "d4e0777e-8659-43bf-f65a-63243f370640"
      },
      "execution_count": 24,
      "outputs": [
        {
          "output_type": "stream",
          "name": "stdout",
          "text": [
            "This is Parent Constructor\n",
            "galaxy\n",
            "10000\n"
          ]
        },
        {
          "output_type": "execute_result",
          "data": {
            "text/plain": [
              "'samsung'"
            ],
            "application/vnd.google.colaboratory.intrinsic+json": {
              "type": "string"
            }
          },
          "metadata": {},
          "execution_count": 24
        }
      ]
    },
    {
      "cell_type": "markdown",
      "source": [
        "Method Overriding Example 2"
      ],
      "metadata": {
        "id": "Se9wAFgmStxe"
      }
    },
    {
      "cell_type": "code",
      "source": [
        "# parent class\n",
        "class User:\n",
        "\n",
        "  def __init__(self):\n",
        "    self.name = 'sachin'\n",
        "    self.password = 'sachin'\n",
        "    print('This is Parent Constructor')\n",
        "\n",
        "  def login(self):\n",
        "    print('===parent===')\n",
        "\n",
        "\n",
        "# child class here\n",
        "class Student(User):\n",
        "\n",
        "  def login(self):\n",
        "    print('===child===')\n",
        "\n",
        "\n",
        "\n",
        "obj = Student()\n",
        "obj.login()"
      ],
      "metadata": {
        "colab": {
          "base_uri": "https://localhost:8080/"
        },
        "id": "riS9qPtpSs9v",
        "outputId": "6e48cab0-65fb-4c18-93b6-7032e99d0bcf"
      },
      "execution_count": 26,
      "outputs": [
        {
          "output_type": "stream",
          "name": "stdout",
          "text": [
            "This is Parent Constructor\n",
            "===child===\n"
          ]
        }
      ]
    },
    {
      "cell_type": "markdown",
      "source": [
        "Super Keyword"
      ],
      "metadata": {
        "id": "2lDtKJORUpNZ"
      }
    },
    {
      "cell_type": "code",
      "source": [
        "# super is a way to access parent methdods\n",
        "# parent class\n",
        "class User:\n",
        "\n",
        "  def __init__(self):\n",
        "    self.name = 'sachin'\n",
        "    self.password = 'sachin'\n",
        "    print('This is Parent Constructor')\n",
        "\n",
        "  def login(self):\n",
        "    print('===parent===')\n",
        "\n",
        "\n",
        "# child class here\n",
        "class Student(User):\n",
        "\n",
        "  def login(self):\n",
        "    print('===child===')\n",
        "    #to access super methods use super()\n",
        "    super().login()\n",
        "\n",
        "\n",
        "\n",
        "obj = Student()\n",
        "obj.login()"
      ],
      "metadata": {
        "colab": {
          "base_uri": "https://localhost:8080/"
        },
        "id": "M6M61KFuR5h2",
        "outputId": "918f575f-8e40-482a-ab56-3ea2b19078ee"
      },
      "execution_count": 27,
      "outputs": [
        {
          "output_type": "stream",
          "name": "stdout",
          "text": [
            "This is Parent Constructor\n",
            "===child===\n",
            "===parent===\n"
          ]
        }
      ]
    },
    {
      "cell_type": "code",
      "source": [
        "# super is a way to access parent methdods\n",
        "# parent class\n",
        "# in this example both the constructors were executed\n",
        "\n",
        "class User:\n",
        "\n",
        "  def __init__(self):\n",
        "    print('you are in Parent')\n",
        "    self.first = 'first'\n",
        "    self.second = 'second'\n",
        "    self.third = 'third'\n",
        "    print('This is Parent Constructor')\n",
        "\n",
        "  def login(self):\n",
        "    print('===parent===')\n",
        "\n",
        "\n",
        "# child class here\n",
        "class Student(User):\n",
        "  \n",
        "  def __init__(self):\n",
        "    super().__init__()\n",
        "    print('you are back in child')\n",
        "    self.fourth = 'fourth'\n",
        "    self.fifth = 'fifth'\n",
        "    print('This is Child Constructor')\n",
        "\n",
        "  def login(self):\n",
        "    print('===child===')\n",
        "    #to access super methods use super()\n",
        "    super().login()\n",
        "\n",
        "\n",
        "\n",
        "obj = Student()"
      ],
      "metadata": {
        "colab": {
          "base_uri": "https://localhost:8080/"
        },
        "id": "v7XQtWmdU1Jy",
        "outputId": "96d9532b-5518-4293-b1de-9d768c40927b"
      },
      "execution_count": 30,
      "outputs": [
        {
          "output_type": "stream",
          "name": "stdout",
          "text": [
            "you are in Parent\n",
            "This is Parent Constructor\n",
            "you are back in child\n",
            "This is Child Constructor\n"
          ]
        }
      ]
    },
    {
      "cell_type": "markdown",
      "source": [
        "Method Overloading"
      ],
      "metadata": {
        "id": "OEOpKAbseZG0"
      }
    },
    {
      "cell_type": "code",
      "source": [
        "class Shape:\n",
        "\n",
        "  def area(self, r):\n",
        "    return 3.14*r*r\n",
        "\n",
        "  def area(self, l, b):\n",
        "    return l*b\n",
        "\n",
        "s = Shape()\n",
        "\n",
        "s.area(2)\n",
        "s.area(2, 4)"
      ],
      "metadata": {
        "colab": {
          "base_uri": "https://localhost:8080/",
          "height": 226
        },
        "id": "TpuCKrWKV4dl",
        "outputId": "e41953df-e45e-4a71-8f89-28e14bb82288"
      },
      "execution_count": 31,
      "outputs": [
        {
          "output_type": "error",
          "ename": "TypeError",
          "evalue": "ignored",
          "traceback": [
            "\u001b[0;31m---------------------------------------------------------------------------\u001b[0m",
            "\u001b[0;31mTypeError\u001b[0m                                 Traceback (most recent call last)",
            "\u001b[0;32m<ipython-input-31-82ddb4d2fcea>\u001b[0m in \u001b[0;36m<module>\u001b[0;34m\u001b[0m\n\u001b[1;32m      9\u001b[0m \u001b[0ms\u001b[0m \u001b[0;34m=\u001b[0m \u001b[0mShape\u001b[0m\u001b[0;34m(\u001b[0m\u001b[0;34m)\u001b[0m\u001b[0;34m\u001b[0m\u001b[0;34m\u001b[0m\u001b[0m\n\u001b[1;32m     10\u001b[0m \u001b[0;34m\u001b[0m\u001b[0m\n\u001b[0;32m---> 11\u001b[0;31m \u001b[0ms\u001b[0m\u001b[0;34m.\u001b[0m\u001b[0marea\u001b[0m\u001b[0;34m(\u001b[0m\u001b[0;36m2\u001b[0m\u001b[0;34m)\u001b[0m\u001b[0;34m\u001b[0m\u001b[0;34m\u001b[0m\u001b[0m\n\u001b[0m\u001b[1;32m     12\u001b[0m \u001b[0ms\u001b[0m\u001b[0;34m.\u001b[0m\u001b[0marea\u001b[0m\u001b[0;34m(\u001b[0m\u001b[0;36m2\u001b[0m\u001b[0;34m,\u001b[0m \u001b[0;36m4\u001b[0m\u001b[0;34m)\u001b[0m\u001b[0;34m\u001b[0m\u001b[0;34m\u001b[0m\u001b[0m\n",
            "\u001b[0;31mTypeError\u001b[0m: area() missing 1 required positional argument: 'b'"
          ]
        }
      ]
    },
    {
      "cell_type": "code",
      "source": [],
      "metadata": {
        "id": "1xDOeiHufXoO"
      },
      "execution_count": null,
      "outputs": []
    }
  ]
}