{
  "nbformat": 4,
  "nbformat_minor": 0,
  "metadata": {
    "colab": {
      "provenance": []
    },
    "kernelspec": {
      "name": "python3",
      "display_name": "Python 3"
    },
    "language_info": {
      "name": "python"
    }
  },
  "cells": [
    {
      "cell_type": "code",
      "execution_count": 6,
      "metadata": {
        "id": "WQPO1Ks_uuBy"
      },
      "outputs": [],
      "source": [
        "class bank:\n",
        "\n",
        "  def __init__(self, x, y, z):\n",
        "    self.account_number = x\n",
        "    self.initial_deposit = y\n",
        "    self.balance = y\n",
        "    self.name = z\n",
        "\n",
        "    print('Thank You for Creating an Account with SBI ', self.name)\n",
        "\n",
        "\n",
        "  def deposit(self, amount):\n",
        "    self.balance = self.balance + amount\n",
        "    print('Welcome ', self.name)\n",
        "    print('Your account has been credited with ' + str(amount) + ' Rupees')\n",
        "    print(f'Your New Balance is {self.balance} Rupees')\n",
        "\n",
        "\n",
        "  def withdraw(self, amount):\n",
        "\n",
        "    if self.balance >= amount:\n",
        "      self.balance = self.balance - amount\n",
        "      print('Welcome ', self.name)\n",
        "      print('Your account has been debited with ' + str(amount) + ' Rupees')\n",
        "      print(f'Your New Balance is {self.balance} Rupees')\n",
        "\n",
        "    else:\n",
        "      print('You do not have enough Balance')\n",
        "\n",
        "  def check_balance(self):\n",
        "      print('Welcome ', self.name)\n",
        "      print(f'Your Account Balance is {self.balance} Rupees')\n",
        "\n",
        ""
      ]
    },
    {
      "cell_type": "code",
      "source": [
        "#account creation\n",
        "\n",
        "mummy = bank(101, 1000, 'Nisha')\n",
        "papa = bank(102, 2000, 'Ahmed')\n",
        "myself = bank(103, 5000, 'Abdul')"
      ],
      "metadata": {
        "colab": {
          "base_uri": "https://localhost:8080/"
        },
        "id": "z-zu1vElww-W",
        "outputId": "1140fb5c-7013-46ea-d93b-71f298220967"
      },
      "execution_count": 8,
      "outputs": [
        {
          "output_type": "stream",
          "name": "stdout",
          "text": [
            "Thank You for Creating an Account with SBI  Nisha\n",
            "Thank You for Creating an Account with SBI  Ahmed\n",
            "Thank You for Creating an Account with SBI  Abdul\n"
          ]
        }
      ]
    },
    {
      "cell_type": "code",
      "source": [
        "#check balance\n",
        "\n",
        "mummy.check_balance()"
      ],
      "metadata": {
        "colab": {
          "base_uri": "https://localhost:8080/"
        },
        "id": "eI4mR2pGxKee",
        "outputId": "f1986529-2758-4c5b-db39-ed0e288b8097"
      },
      "execution_count": 3,
      "outputs": [
        {
          "output_type": "stream",
          "name": "stdout",
          "text": [
            "Welcome  Nisha\n",
            "Your Account Balance is 1000 Rupees\n"
          ]
        }
      ]
    },
    {
      "cell_type": "code",
      "source": [
        "#check balance\n",
        "\n",
        "papa.check_balance()"
      ],
      "metadata": {
        "colab": {
          "base_uri": "https://localhost:8080/"
        },
        "id": "MlzL1jHpxZdc",
        "outputId": "b681813b-674d-419d-cef0-f249938ffb14"
      },
      "execution_count": 4,
      "outputs": [
        {
          "output_type": "stream",
          "name": "stdout",
          "text": [
            "Welcome  Ahmed\n",
            "Your Account Balance is 2000 Rupees\n"
          ]
        }
      ]
    },
    {
      "cell_type": "code",
      "source": [
        "# Deposit\n",
        "\n",
        "mummy.deposit(245)"
      ],
      "metadata": {
        "colab": {
          "base_uri": "https://localhost:8080/"
        },
        "id": "4Jqmd30QxcNS",
        "outputId": "b0b4f2de-29b3-4b6b-9f6a-bc5f5d3c9a18"
      },
      "execution_count": 9,
      "outputs": [
        {
          "output_type": "stream",
          "name": "stdout",
          "text": [
            "Welcome  Nisha\n",
            "Your account has been credited with 245 Rupees\n",
            "Your New Balance is 1245 Rupees\n"
          ]
        }
      ]
    },
    {
      "cell_type": "code",
      "source": [
        "# Withdraw\n",
        "\n",
        "mummy.withdraw(3000)"
      ],
      "metadata": {
        "colab": {
          "base_uri": "https://localhost:8080/"
        },
        "id": "qhowtE27xiv-",
        "outputId": "13b35e8b-3b93-42ae-ef4d-3893c3e9b716"
      },
      "execution_count": 10,
      "outputs": [
        {
          "output_type": "stream",
          "name": "stdout",
          "text": [
            "You do not have enough Balance\n"
          ]
        }
      ]
    },
    {
      "cell_type": "code",
      "source": [
        "mummy.withdraw(300)"
      ],
      "metadata": {
        "colab": {
          "base_uri": "https://localhost:8080/"
        },
        "id": "Sa862qOlxzq0",
        "outputId": "0bcb37da-a04e-4231-938e-8c521bd86fff"
      },
      "execution_count": 11,
      "outputs": [
        {
          "output_type": "stream",
          "name": "stdout",
          "text": [
            "Welcome  Nisha\n",
            "Your account has been debited with 300 Rupees\n",
            "Your New Balance is 945 Rupees\n"
          ]
        }
      ]
    },
    {
      "cell_type": "code",
      "source": [],
      "metadata": {
        "id": "Dqh1liHhx2b2"
      },
      "execution_count": null,
      "outputs": []
    }
  ]
}