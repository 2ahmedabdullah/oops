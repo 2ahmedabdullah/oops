{
  "nbformat": 4,
  "nbformat_minor": 0,
  "metadata": {
    "colab": {
      "provenance": []
    },
    "kernelspec": {
      "name": "python3",
      "display_name": "Python 3"
    },
    "language_info": {
      "name": "python"
    }
  },
  "cells": [
    {
      "cell_type": "markdown",
      "source": [
        "calculate distance between 2 points"
      ],
      "metadata": {
        "id": "VDgfTEUpX5x-"
      }
    },
    {
      "cell_type": "code",
      "execution_count": null,
      "metadata": {
        "id": "90w9XJ1xVawv"
      },
      "outputs": [],
      "source": [
        "class Point:\n",
        "  def __init__(self, x, y):\n",
        "    self.x = x\n",
        "    self.y = y\n",
        "\n",
        "  def __str__(self):\n",
        "    return '({},{})'.format(self.x, self.y)\n",
        "\n",
        "  def distance(self, other):\n",
        "    return (((self.x - other.x)**2+(self.y - other.y)**2)**0.5)\n",
        "  "
      ]
    },
    {
      "cell_type": "code",
      "source": [
        "p1 = Point(1,1)\n",
        "p2 = Point(2,2)"
      ],
      "metadata": {
        "id": "zUxHlEsJWZih"
      },
      "execution_count": null,
      "outputs": []
    },
    {
      "cell_type": "code",
      "source": [
        "print(p1)\n",
        "print(p2)"
      ],
      "metadata": {
        "colab": {
          "base_uri": "https://localhost:8080/"
        },
        "id": "-bjIJvRtWfqp",
        "outputId": "07c1d863-b769-49a0-f602-ca7aea67b6fc"
      },
      "execution_count": null,
      "outputs": [
        {
          "output_type": "stream",
          "name": "stdout",
          "text": [
            "(1,1)\n",
            "(2,2)\n"
          ]
        }
      ]
    },
    {
      "cell_type": "code",
      "source": [
        "p1.distance(p2)"
      ],
      "metadata": {
        "colab": {
          "base_uri": "https://localhost:8080/"
        },
        "id": "iMdw3oXGW4gw",
        "outputId": "7002ffcb-6987-49dc-b6d6-3c288ccea579"
      },
      "execution_count": null,
      "outputs": [
        {
          "output_type": "execute_result",
          "data": {
            "text/plain": [
              "1.4142135623730951"
            ]
          },
          "metadata": {},
          "execution_count": 11
        }
      ]
    },
    {
      "cell_type": "code",
      "source": [
        "p1.distance(p1)"
      ],
      "metadata": {
        "colab": {
          "base_uri": "https://localhost:8080/"
        },
        "id": "CBmKiv1YXJeA",
        "outputId": "5331a18e-e77b-4c78-9d87-2db0f4234126"
      },
      "execution_count": null,
      "outputs": [
        {
          "output_type": "execute_result",
          "data": {
            "text/plain": [
              "0.0"
            ]
          },
          "metadata": {},
          "execution_count": 12
        }
      ]
    },
    {
      "cell_type": "markdown",
      "source": [
        "calculate distance from origin"
      ],
      "metadata": {
        "id": "Fcdzl3WUX_x0"
      }
    },
    {
      "cell_type": "code",
      "source": [
        "class Point:\n",
        "  def __init__(self, x, y):\n",
        "    self.x = x\n",
        "    self.y = y\n",
        "\n",
        "  def __str__(self):\n",
        "    return '({},{})'.format(self.x, self.y)\n",
        "\n",
        "  def distance(self, other):\n",
        "    return (((self.x - other.x)**2+(self.y - other.y)**2)**0.5)\n",
        "\n",
        "  def dist_from_origin(self):\n",
        "    return self.distance(Point(0,0))\n"
      ],
      "metadata": {
        "id": "RUgtaCysXjZD"
      },
      "execution_count": null,
      "outputs": []
    },
    {
      "cell_type": "code",
      "source": [
        "p1 = Point(1,1)"
      ],
      "metadata": {
        "id": "IahSXUi3YTmD"
      },
      "execution_count": null,
      "outputs": []
    },
    {
      "cell_type": "code",
      "source": [
        "p1.dist_from_origin()"
      ],
      "metadata": {
        "colab": {
          "base_uri": "https://localhost:8080/"
        },
        "id": "3dIkOnngYXk9",
        "outputId": "67415238-feaa-4159-8a60-a213b7a87bf4"
      },
      "execution_count": null,
      "outputs": [
        {
          "output_type": "execute_result",
          "data": {
            "text/plain": [
              "1.4142135623730951"
            ]
          },
          "metadata": {},
          "execution_count": 19
        }
      ]
    },
    {
      "cell_type": "code",
      "source": [
        "class Line:\n",
        "  def __init__(self, a, b, c):\n",
        "    self.a = a\n",
        "    self.b = b\n",
        "    self.c = c\n",
        "\n",
        "  def __str__(self):\n",
        "    return '{}x+{}y+{}=0'.format(self.a, self.b, self.c)\n",
        "\n",
        "  \n"
      ],
      "metadata": {
        "id": "gDTJNFIGYcZD"
      },
      "execution_count": null,
      "outputs": []
    },
    {
      "cell_type": "code",
      "source": [
        "l1 = Line(1,2,3)"
      ],
      "metadata": {
        "id": "Cp4L7am6ivgn"
      },
      "execution_count": null,
      "outputs": []
    },
    {
      "cell_type": "code",
      "source": [
        "print(l1)"
      ],
      "metadata": {
        "colab": {
          "base_uri": "https://localhost:8080/"
        },
        "id": "Dg1jbil_izeW",
        "outputId": "684e4e2d-279b-4658-9a4e-56d8798ae13b"
      },
      "execution_count": null,
      "outputs": [
        {
          "output_type": "stream",
          "name": "stdout",
          "text": [
            "1x+2y+3=0\n"
          ]
        }
      ]
    },
    {
      "cell_type": "code",
      "source": [
        "class Line:\n",
        "  def __init__(self, a, b, c):\n",
        "    self.a = a\n",
        "    self.b = b\n",
        "    self.c = c\n",
        "\n",
        "  def __str__(self):\n",
        "    return '{}x+{}y+{}=0'.format(self.a, self.b, self.c)\n",
        "\n",
        "  def point_on_line(line, point):\n",
        "    if line.a*point.x+line.b*point.y+line.c == 0:\n",
        "      return \"Point lies on the Line\"\n",
        "    else:\n",
        "      return \"Point does not lie on the Line\"\n"
      ],
      "metadata": {
        "id": "w9EFjdY9i-3x"
      },
      "execution_count": null,
      "outputs": []
    },
    {
      "cell_type": "code",
      "source": [
        "l1 = Line(-2,2,4)\n",
        "p1 = Point(2,4)"
      ],
      "metadata": {
        "id": "g-CMkAxtkBde"
      },
      "execution_count": null,
      "outputs": []
    },
    {
      "cell_type": "code",
      "source": [
        "print(l1)\n",
        "print(p1)"
      ],
      "metadata": {
        "colab": {
          "base_uri": "https://localhost:8080/"
        },
        "id": "d20oH0D_kNTH",
        "outputId": "e64e3fe1-0470-4ebb-f760-323c980d8bea"
      },
      "execution_count": null,
      "outputs": [
        {
          "output_type": "stream",
          "name": "stdout",
          "text": [
            "-2x+2y+4=0\n",
            "(2,4)\n"
          ]
        }
      ]
    },
    {
      "cell_type": "code",
      "source": [
        "l1.point_on_line(p1)"
      ],
      "metadata": {
        "colab": {
          "base_uri": "https://localhost:8080/",
          "height": 36
        },
        "id": "iJ7wEWZlkgoP",
        "outputId": "453ff500-25fe-460b-9f5c-3081cf046fe2"
      },
      "execution_count": null,
      "outputs": [
        {
          "output_type": "execute_result",
          "data": {
            "text/plain": [
              "'Point does not lie on the Line'"
            ],
            "application/vnd.google.colaboratory.intrinsic+json": {
              "type": "string"
            }
          },
          "metadata": {},
          "execution_count": 34
        }
      ]
    },
    {
      "cell_type": "code",
      "source": [
        "l1 = Line(1,1,-2)\n",
        "p1 = Point(1,1)"
      ],
      "metadata": {
        "id": "QnhNLgD4kmRO"
      },
      "execution_count": null,
      "outputs": []
    },
    {
      "cell_type": "code",
      "source": [
        "print(l1)\n",
        "print(p1)"
      ],
      "metadata": {
        "colab": {
          "base_uri": "https://localhost:8080/"
        },
        "id": "P80i5svlk5IR",
        "outputId": "b765ab8b-c546-4317-f41d-213239074bdb"
      },
      "execution_count": null,
      "outputs": [
        {
          "output_type": "stream",
          "name": "stdout",
          "text": [
            "1x+1y+-2=0\n",
            "(1,1)\n"
          ]
        }
      ]
    },
    {
      "cell_type": "code",
      "source": [
        "l1.point_on_line(p1)"
      ],
      "metadata": {
        "colab": {
          "base_uri": "https://localhost:8080/",
          "height": 36
        },
        "id": "wCF7WgwIk6nR",
        "outputId": "7cb809b5-f704-4b01-c8c9-2e6728b6bf43"
      },
      "execution_count": null,
      "outputs": [
        {
          "output_type": "execute_result",
          "data": {
            "text/plain": [
              "'Point lies on the Line'"
            ],
            "application/vnd.google.colaboratory.intrinsic+json": {
              "type": "string"
            }
          },
          "metadata": {},
          "execution_count": 37
        }
      ]
    },
    {
      "cell_type": "code",
      "source": [
        "class Line:\n",
        "  def __init__(self, a, b, c):\n",
        "    self.a = a\n",
        "    self.b = b\n",
        "    self.c = c\n",
        "\n",
        "  def __str__(self):\n",
        "    return '{}x+{}y+{}=0'.format(self.a, self.b, self.c)\n",
        "\n",
        "  def point_on_line(line, point):\n",
        "    if line.a*point.x+line.b*point.y+line.c == 0:\n",
        "      return \"Point lies on the Line\"\n",
        "    else:\n",
        "      return \"Point does not lie on the Line\"\n",
        "\n",
        "  def shortest_distance(line, point):\n",
        "    return abs(line.a*point.x+line.b*point.y+line.c)/(line.a**2+line.b**2)**0.5\n"
      ],
      "metadata": {
        "id": "SIcXemYJk8EV"
      },
      "execution_count": null,
      "outputs": []
    },
    {
      "cell_type": "code",
      "source": [
        "l1 = Line(-2,2,4)\n",
        "p1 = Point(2,4)\n",
        "\n",
        "print(l1)\n",
        "print(p1)\n",
        "\n",
        "l1.shortest_distance(p1)"
      ],
      "metadata": {
        "colab": {
          "base_uri": "https://localhost:8080/"
        },
        "id": "e7ffyu3AokVp",
        "outputId": "30b5d1aa-ce27-4b37-a463-22ba96117835"
      },
      "execution_count": null,
      "outputs": [
        {
          "output_type": "stream",
          "name": "stdout",
          "text": [
            "-2x+2y+4=0\n",
            "(2,4)\n"
          ]
        },
        {
          "output_type": "execute_result",
          "data": {
            "text/plain": [
              "2.82842712474619"
            ]
          },
          "metadata": {},
          "execution_count": 39
        }
      ]
    },
    {
      "cell_type": "markdown",
      "source": [
        "Reference Variable"
      ],
      "metadata": {
        "id": "RVAwEIRibLHH"
      }
    },
    {
      "cell_type": "code",
      "source": [
        "class Person:\n",
        "  def __init__(self):\n",
        "    self.name = 'sachin'\n",
        "    self.gender = 'male'\n",
        "\n"
      ],
      "metadata": {
        "id": "ZBr29-2JbKNx"
      },
      "execution_count": 20,
      "outputs": []
    },
    {
      "cell_type": "code",
      "source": [
        "#object without reference\n",
        "Person()"
      ],
      "metadata": {
        "colab": {
          "base_uri": "https://localhost:8080/"
        },
        "id": "MvyOz1VDeGby",
        "outputId": "be8481fc-118a-4630-a9e9-0027738c2e18"
      },
      "execution_count": 21,
      "outputs": [
        {
          "output_type": "execute_result",
          "data": {
            "text/plain": [
              "<__main__.Person at 0x7f9c965357f0>"
            ]
          },
          "metadata": {},
          "execution_count": 21
        }
      ]
    },
    {
      "cell_type": "code",
      "source": [
        "p = Person()\n",
        "q = p"
      ],
      "metadata": {
        "id": "3JuhPN9MbgIH"
      },
      "execution_count": 22,
      "outputs": []
    },
    {
      "cell_type": "code",
      "source": [
        "#multiple reference\n",
        "\n",
        "print(id(p))\n",
        "print(id(q))\n",
        "\n",
        "#this means p & q are NOT REALLY OBJECTS\n",
        "#they just stores address of the object (SELF) as shown below"
      ],
      "metadata": {
        "colab": {
          "base_uri": "https://localhost:8080/"
        },
        "id": "M6KyyvP0bnp3",
        "outputId": "ae62ef46-ce5c-48c3-c960-20cfcad67c45"
      },
      "execution_count": 23,
      "outputs": [
        {
          "output_type": "stream",
          "name": "stdout",
          "text": [
            "140310513668880\n",
            "140310513668880\n"
          ]
        }
      ]
    },
    {
      "cell_type": "code",
      "source": [
        "#one can change attribute value with the help of 2nd REFERENCE VARIABLE which is q\n",
        "\n",
        "print(p.name)\n",
        "print(q.name)\n",
        "\n",
        "print('======')\n",
        "\n",
        "q.name = 'dravid'\n",
        "\n",
        "print(q.name)\n",
        "print(p.name)\n"
      ],
      "metadata": {
        "colab": {
          "base_uri": "https://localhost:8080/"
        },
        "id": "gm3PonGebuYH",
        "outputId": "a04f72ec-004d-4750-c8e3-ade7299f590f"
      },
      "execution_count": 24,
      "outputs": [
        {
          "output_type": "stream",
          "name": "stdout",
          "text": [
            "sachin\n",
            "sachin\n",
            "======\n",
            "dravid\n",
            "dravid\n"
          ]
        }
      ]
    },
    {
      "cell_type": "markdown",
      "source": [
        "Pass By Reference"
      ],
      "metadata": {
        "id": "pOdu923_c58P"
      }
    },
    {
      "cell_type": "code",
      "source": [
        "# passing an object in a FUNCTION outside CLASS, FUNCTION returning OBJECT\n",
        "\n",
        "class Person:\n",
        "  def __init__(self, name, gender):\n",
        "    self.name = 'sachin'\n",
        "    self.gender = 'male'\n",
        "\n",
        "\n",
        "def greet(object):\n",
        "  print('Hi my name is ', object.name, ' and i am a ', object.gender)\n",
        "  k = Person('dhoni', 'male') \n",
        "  print(id(object))\n",
        "  print(id(k))\n",
        "  k.name = 'dhoni'\n",
        "  print('======================')\n",
        "  print(id(k))\n",
        "  return k\n",
        "\n",
        "\n",
        "f = greet(q)\n",
        "print(f)\n",
        "print(f.name)\n",
        "print(f.gender)"
      ],
      "metadata": {
        "colab": {
          "base_uri": "https://localhost:8080/"
        },
        "id": "b-hsb05bciWf",
        "outputId": "eec12fc1-0de9-4283-a0b7-d3893dca8551"
      },
      "execution_count": 29,
      "outputs": [
        {
          "output_type": "stream",
          "name": "stdout",
          "text": [
            "Hi my name is  dravid  and i am a  male\n",
            "140310513668880\n",
            "140310512976080\n",
            "======================\n",
            "140310512976080\n",
            "<__main__.Person object at 0x7f9c9648c0d0>\n",
            "dhoni\n",
            "male\n"
          ]
        }
      ]
    },
    {
      "cell_type": "markdown",
      "source": [
        "Encapsulation"
      ],
      "metadata": {
        "id": "O7gZHZwdg6MF"
      }
    },
    {
      "cell_type": "code",
      "source": [
        "class MyAtm:\n",
        "\n",
        "  # constructor\n",
        "  def __init__(self):\n",
        "    self.pin = '1234'\n",
        "    self.__balance = 100\n",
        "    #self.menu()\n",
        "\n",
        "  def menu(self):\n",
        "    user_input = input(\"\"\"\n",
        "    Hi How can I help you ?\n",
        "    1) Press 1 to create pin.\n",
        "    2) Press 2 to change pin.\n",
        "    3) Press 3 to check balance.\n",
        "    4) Press 4 to withdraw.\n",
        "    5) Press exit to Exit.\n",
        "    \"\"\")\n",
        "\n",
        "    if user_input == '1':\n",
        "      #create pin\n",
        "      self.create_pin()\n",
        "\n",
        "    if user_input == '2':\n",
        "      #change pin\n",
        "      self.change_pin()\n",
        "      \n",
        "    if user_input == '3':\n",
        "      #check balance\n",
        "      self.check_balance()\n",
        "\n",
        "    if user_input == '4':\n",
        "      #withdraw\n",
        "      self.withdraw()\n",
        "      \n",
        "    else:\n",
        "      exit()\n",
        "\n",
        "\n",
        "  def create_pin(self):\n",
        "    user_pin = input('enter your 4 digit pin')\n",
        "    self.pin = user_pin\n",
        "\n",
        "    user_balance = int(input('enter your balance'))\n",
        "    self.__balance = user_balance\n",
        "\n",
        "    print('your pin has been created successfully')\n",
        "    self.menu()\n",
        "\n",
        "\n",
        "\n",
        "  def change_pin(self):\n",
        "    old_pin = input('please enter old pin ')\n",
        "\n",
        "    if old_pin == self.pin:\n",
        "      new_pin = input('enter new pin')\n",
        "      self.pin = new_pin\n",
        "      print('your pin has been changed successfully')\n",
        "      self.menu()\n",
        "\n",
        "    else:\n",
        "      print('entered pin is incorrect, please try again')\n",
        "      self.menu()\n",
        "\n",
        "\n",
        "\n",
        "  def check_balance(self):\n",
        "    your_pin = input('please enter your pin')\n",
        "\n",
        "    if your_pin == self.pin:\n",
        "      print('your balance is:', self.__balance)\n",
        "      self.menu()\n",
        "    \n",
        "    else:\n",
        "      print('entered pin is incorrect, please try again')\n",
        "      self.menu()\n",
        "\n",
        "\n",
        "  def withdraw(self):\n",
        "    your_pin = input('please enter your pin')\n",
        "\n",
        "    if your_pin == self.pin:\n",
        "      req = int(input('enter amount:'))\n",
        "      \n",
        "      if req <= self.__balance:\n",
        "        self.__balance = self.__balance-req\n",
        "        print('you have successfully withdrawn: ', req)\n",
        "        print('balance left:', self.__balance) \n",
        "      else:\n",
        "        print('entered amount is greater than balance')\n",
        "        print('please try again')\n",
        "\n",
        "    else:\n",
        "      print('entered pin is incorrect, please try again')\n",
        "    \n",
        "    self.menu()\n",
        "\n",
        " "
      ],
      "metadata": {
        "id": "bht2iF3pdahX"
      },
      "execution_count": 1,
      "outputs": []
    },
    {
      "cell_type": "code",
      "source": [
        "obj = MyAtm()"
      ],
      "metadata": {
        "id": "7H8_7h7fBtw_"
      },
      "execution_count": 2,
      "outputs": []
    },
    {
      "cell_type": "code",
      "source": [
        "obj.__balance"
      ],
      "metadata": {
        "colab": {
          "base_uri": "https://localhost:8080/",
          "height": 171
        },
        "id": "-bwjWbnAEAsD",
        "outputId": "48d7b433-4cec-4090-9249-ab60899758d9"
      },
      "execution_count": 26,
      "outputs": [
        {
          "output_type": "error",
          "ename": "AttributeError",
          "evalue": "ignored",
          "traceback": [
            "\u001b[0;31m---------------------------------------------------------------------------\u001b[0m",
            "\u001b[0;31mAttributeError\u001b[0m                            Traceback (most recent call last)",
            "\u001b[0;32m<ipython-input-26-bba8213d86ad>\u001b[0m in \u001b[0;36m<module>\u001b[0;34m\u001b[0m\n\u001b[0;32m----> 1\u001b[0;31m \u001b[0mobj\u001b[0m\u001b[0;34m.\u001b[0m\u001b[0m__balance\u001b[0m\u001b[0;34m\u001b[0m\u001b[0;34m\u001b[0m\u001b[0m\n\u001b[0m",
            "\u001b[0;31mAttributeError\u001b[0m: 'MyAtm' object has no attribute '__balance'"
          ]
        }
      ]
    },
    {
      "cell_type": "code",
      "source": [
        "obj.__balance='hehehe'"
      ],
      "metadata": {
        "id": "CPO0MP3cBzij"
      },
      "execution_count": 3,
      "outputs": []
    },
    {
      "cell_type": "code",
      "source": [
        "obj.__balance"
      ],
      "metadata": {
        "colab": {
          "base_uri": "https://localhost:8080/",
          "height": 36
        },
        "id": "PhH32A-hDq_V",
        "outputId": "c59d9f1e-8c01-4734-cd2e-fde00ba7534e"
      },
      "execution_count": 4,
      "outputs": [
        {
          "output_type": "execute_result",
          "data": {
            "text/plain": [
              "'hehehe'"
            ],
            "application/vnd.google.colaboratory.intrinsic+json": {
              "type": "string"
            }
          },
          "metadata": {},
          "execution_count": 4
        }
      ]
    },
    {
      "cell_type": "code",
      "source": [
        "#code ran successfully even if we changed to \"__balance\"\n",
        "# this happened bcoz python saves private variable as \"_classname__varaiblename\" which in our case is \"_MyAtm__balance\"\n",
        "obj.withdraw()"
      ],
      "metadata": {
        "colab": {
          "base_uri": "https://localhost:8080/"
        },
        "id": "WfvOUzrCDtQX",
        "outputId": "7d3a39cb-dae0-4ef4-a8ea-0859baaf1ef1"
      },
      "execution_count": 5,
      "outputs": [
        {
          "name": "stdout",
          "output_type": "stream",
          "text": [
            "please enter your pin1234\n",
            "enter amount:21\n",
            "you have successfully withdrawn:  21\n",
            "balance left: 79\n",
            "\n",
            "    Hi How can I help you ?\n",
            "    1) Press 1 to create pin.\n",
            "    2) Press 2 to change pin.\n",
            "    3) Press 3 to check balance.\n",
            "    4) Press 4 to withdraw.\n",
            "    5) Press exit to Exit.\n",
            "    5\n"
          ]
        }
      ]
    },
    {
      "cell_type": "code",
      "source": [
        "obj._MyAtm__balance"
      ],
      "metadata": {
        "colab": {
          "base_uri": "https://localhost:8080/"
        },
        "id": "QLyXjBLcEaAu",
        "outputId": "9b478790-8a0d-48eb-c007-0252ddeb9a5d"
      },
      "execution_count": 3,
      "outputs": [
        {
          "output_type": "execute_result",
          "data": {
            "text/plain": [
              "100"
            ]
          },
          "metadata": {},
          "execution_count": 3
        }
      ]
    },
    {
      "cell_type": "code",
      "source": [
        "obj._MyAtm__balance = \"hehehe\""
      ],
      "metadata": {
        "id": "qNox-zpeGR7_"
      },
      "execution_count": 4,
      "outputs": []
    },
    {
      "cell_type": "code",
      "source": [
        "#this gives us an error\n",
        "obj.withdraw()"
      ],
      "metadata": {
        "colab": {
          "base_uri": "https://localhost:8080/",
          "height": 354
        },
        "id": "K8WeNMMUGWX-",
        "outputId": "9b3ab3bd-7790-4027-d4f8-7ab8114af668"
      },
      "execution_count": 5,
      "outputs": [
        {
          "name": "stdout",
          "output_type": "stream",
          "text": [
            "please enter your pin1234\n",
            "enter amount:11\n"
          ]
        },
        {
          "output_type": "error",
          "ename": "TypeError",
          "evalue": "ignored",
          "traceback": [
            "\u001b[0;31m---------------------------------------------------------------------------\u001b[0m",
            "\u001b[0;31mTypeError\u001b[0m                                 Traceback (most recent call last)",
            "\u001b[0;32m<ipython-input-5-d42ebc9f6f4c>\u001b[0m in \u001b[0;36m<module>\u001b[0;34m\u001b[0m\n\u001b[1;32m      1\u001b[0m \u001b[0;31m#this gives us an error\u001b[0m\u001b[0;34m\u001b[0m\u001b[0;34m\u001b[0m\u001b[0;34m\u001b[0m\u001b[0m\n\u001b[0;32m----> 2\u001b[0;31m \u001b[0mobj\u001b[0m\u001b[0;34m.\u001b[0m\u001b[0mwithdraw\u001b[0m\u001b[0;34m(\u001b[0m\u001b[0;34m)\u001b[0m\u001b[0;34m\u001b[0m\u001b[0;34m\u001b[0m\u001b[0m\n\u001b[0m",
            "\u001b[0;32m<ipython-input-1-f5fa69664c87>\u001b[0m in \u001b[0;36mwithdraw\u001b[0;34m(self)\u001b[0m\n\u001b[1;32m     82\u001b[0m       \u001b[0mreq\u001b[0m \u001b[0;34m=\u001b[0m \u001b[0mint\u001b[0m\u001b[0;34m(\u001b[0m\u001b[0minput\u001b[0m\u001b[0;34m(\u001b[0m\u001b[0;34m'enter amount:'\u001b[0m\u001b[0;34m)\u001b[0m\u001b[0;34m)\u001b[0m\u001b[0;34m\u001b[0m\u001b[0;34m\u001b[0m\u001b[0m\n\u001b[1;32m     83\u001b[0m \u001b[0;34m\u001b[0m\u001b[0m\n\u001b[0;32m---> 84\u001b[0;31m       \u001b[0;32mif\u001b[0m \u001b[0mreq\u001b[0m \u001b[0;34m<=\u001b[0m \u001b[0mself\u001b[0m\u001b[0;34m.\u001b[0m\u001b[0m__balance\u001b[0m\u001b[0;34m:\u001b[0m\u001b[0;34m\u001b[0m\u001b[0;34m\u001b[0m\u001b[0m\n\u001b[0m\u001b[1;32m     85\u001b[0m         \u001b[0mself\u001b[0m\u001b[0;34m.\u001b[0m\u001b[0m__balance\u001b[0m \u001b[0;34m=\u001b[0m \u001b[0mself\u001b[0m\u001b[0;34m.\u001b[0m\u001b[0m__balance\u001b[0m\u001b[0;34m-\u001b[0m\u001b[0mreq\u001b[0m\u001b[0;34m\u001b[0m\u001b[0;34m\u001b[0m\u001b[0m\n\u001b[1;32m     86\u001b[0m         \u001b[0mprint\u001b[0m\u001b[0;34m(\u001b[0m\u001b[0;34m'you have successfully withdrawn: '\u001b[0m\u001b[0;34m,\u001b[0m \u001b[0mreq\u001b[0m\u001b[0;34m)\u001b[0m\u001b[0;34m\u001b[0m\u001b[0;34m\u001b[0m\u001b[0m\n",
            "\u001b[0;31mTypeError\u001b[0m: '<=' not supported between instances of 'int' and 'str'"
          ]
        }
      ]
    },
    {
      "cell_type": "code",
      "source": [
        "#what to do ??\n",
        "# in PYTHON nothing is PRIVATE\n",
        "\n",
        "class MyAtm:\n",
        "\n",
        "  # constructor\n",
        "  def __init__(self):\n",
        "    self.pin = '1234'\n",
        "    self.__balance = 100\n",
        "    #self.menu()\n",
        "\n",
        "  def get_balance(self):\n",
        "    return self.__balance\n",
        "\n",
        "  def set_balance(self, new_value):\n",
        "    if type(new_value) == int:\n",
        "      self.__balance = new_value\n",
        "    else:\n",
        "      print('ERROR ==> change data type to int')\n",
        "\n",
        "\n",
        "\n",
        "  def menu(self):\n",
        "    user_input = input(\"\"\"\n",
        "    Hi How can I help you ?\n",
        "    1) Press 1 to create pin.\n",
        "    2) Press 2 to change pin.\n",
        "    3) Press 3 to check balance.\n",
        "    4) Press 4 to withdraw.\n",
        "    5) Press exit to Exit.\n",
        "    \"\"\")\n",
        "\n",
        "    if user_input == '1':\n",
        "      #create pin\n",
        "      self.create_pin()\n",
        "\n",
        "    if user_input == '2':\n",
        "      #change pin\n",
        "      self.change_pin()\n",
        "      \n",
        "    if user_input == '3':\n",
        "      #check balance\n",
        "      self.check_balance()\n",
        "\n",
        "    if user_input == '4':\n",
        "      #withdraw\n",
        "      self.withdraw()\n",
        "      \n",
        "    else:\n",
        "      exit()\n",
        "\n",
        "\n",
        "  def create_pin(self):\n",
        "    user_pin = input('enter your 4 digit pin')\n",
        "    self.pin = user_pin\n",
        "\n",
        "    user_balance = int(input('enter your balance'))\n",
        "    self.__balance = user_balance\n",
        "\n",
        "    print('your pin has been created successfully')\n",
        "    self.menu()\n",
        "\n",
        "\n",
        "\n",
        "  def change_pin(self):\n",
        "    old_pin = input('please enter old pin ')\n",
        "\n",
        "    if old_pin == self.pin:\n",
        "      new_pin = input('enter new pin')\n",
        "      self.pin = new_pin\n",
        "      print('your pin has been changed successfully')\n",
        "      self.menu()\n",
        "\n",
        "    else:\n",
        "      print('entered pin is incorrect, please try again')\n",
        "      self.menu()\n",
        "\n",
        "\n",
        "\n",
        "  def check_balance(self):\n",
        "    your_pin = input('please enter your pin')\n",
        "\n",
        "    if your_pin == self.pin:\n",
        "      print('your balance is:', self.__balance)\n",
        "      self.menu()\n",
        "    \n",
        "    else:\n",
        "      print('entered pin is incorrect, please try again')\n",
        "      self.menu()\n",
        "\n",
        "\n",
        "  def withdraw(self):\n",
        "    your_pin = input('please enter your pin')\n",
        "\n",
        "    if your_pin == self.pin:\n",
        "      req = int(input('enter amount:'))\n",
        "      \n",
        "      if req <= self.__balance:\n",
        "        self.__balance = self.__balance-req\n",
        "        print('you have successfully withdrawn: ', req)\n",
        "        print('balance left:', self.__balance) \n",
        "      else:\n",
        "        print('entered amount is greater than balance')\n",
        "        print('please try again')\n",
        "\n",
        "    else:\n",
        "      print('entered pin is incorrect, please try again')\n",
        "    \n",
        "    self.menu()\n",
        "\n",
        " "
      ],
      "metadata": {
        "id": "iOPktteyGZ4c"
      },
      "execution_count": 11,
      "outputs": []
    },
    {
      "cell_type": "code",
      "source": [
        "obj = MyAtm()"
      ],
      "metadata": {
        "id": "JXBcBq7SH0uC"
      },
      "execution_count": 12,
      "outputs": []
    },
    {
      "cell_type": "code",
      "source": [
        "obj.get_balance()"
      ],
      "metadata": {
        "colab": {
          "base_uri": "https://localhost:8080/"
        },
        "id": "fnDVv01dH2sx",
        "outputId": "af7d953c-5f91-452b-e774-b1233aaf49a2"
      },
      "execution_count": 13,
      "outputs": [
        {
          "output_type": "execute_result",
          "data": {
            "text/plain": [
              "100"
            ]
          },
          "metadata": {},
          "execution_count": 13
        }
      ]
    },
    {
      "cell_type": "code",
      "source": [
        "obj.set_balance('hehehe')"
      ],
      "metadata": {
        "colab": {
          "base_uri": "https://localhost:8080/"
        },
        "id": "IgOQazcRH6Fb",
        "outputId": "fe97ed9a-b8e5-4a56-8a6d-28d2f9ea60f1"
      },
      "execution_count": 14,
      "outputs": [
        {
          "output_type": "stream",
          "name": "stdout",
          "text": [
            "ERROR ==> change data type to int\n"
          ]
        }
      ]
    },
    {
      "cell_type": "code",
      "source": [
        "# allwoing to change the value through a Function... thats the power of SETTER\n",
        "# the creator can set his logic (int wla)\n",
        "obj.set_balance(200)"
      ],
      "metadata": {
        "id": "ARkjXQzcH_hO"
      },
      "execution_count": 15,
      "outputs": []
    },
    {
      "cell_type": "code",
      "source": [
        "obj.get_balance()"
      ],
      "metadata": {
        "colab": {
          "base_uri": "https://localhost:8080/"
        },
        "id": "uMsMjk_nIKb5",
        "outputId": "c73064f3-122d-44fd-c083-23059ba111cd"
      },
      "execution_count": 16,
      "outputs": [
        {
          "output_type": "execute_result",
          "data": {
            "text/plain": [
              "200"
            ]
          },
          "metadata": {},
          "execution_count": 16
        }
      ]
    },
    {
      "cell_type": "markdown",
      "source": [
        "Static Variable"
      ],
      "metadata": {
        "id": "0ojT0xUlOCzk"
      }
    },
    {
      "cell_type": "code",
      "source": [
        "\n",
        "class MyAtm:\n",
        "\n",
        "  #static variable\n",
        "  counter = 1\n",
        "\n",
        "  # constructor\n",
        "  def __init__(self):\n",
        "    self.pin = '1234'\n",
        "    self.__balance = 100\n",
        "    self.customer_id = MyAtm.counter\n",
        "    MyAtm.counter = MyAtm.counter+1\n",
        "\n",
        "  "
      ],
      "metadata": {
        "id": "8BE2ZuCkILid"
      },
      "execution_count": 21,
      "outputs": []
    },
    {
      "cell_type": "code",
      "source": [
        "c1 = MyAtm()\n",
        "c2 = MyAtm()\n",
        "c3 = MyAtm()\n"
      ],
      "metadata": {
        "id": "l6jX8K1dOiXV"
      },
      "execution_count": 22,
      "outputs": []
    },
    {
      "cell_type": "code",
      "source": [
        "print(c1.customer_id)\n",
        "print(c2.customer_id)\n",
        "print(c3.customer_id)"
      ],
      "metadata": {
        "colab": {
          "base_uri": "https://localhost:8080/"
        },
        "id": "X34NpFvCOk3T",
        "outputId": "28dc27e9-94b0-42d2-990e-b76218a0c6f8"
      },
      "execution_count": 23,
      "outputs": [
        {
          "output_type": "stream",
          "name": "stdout",
          "text": [
            "1\n",
            "2\n",
            "3\n"
          ]
        }
      ]
    },
    {
      "cell_type": "code",
      "source": [
        "MyAtm.counter = 'hehehe'"
      ],
      "metadata": {
        "id": "T4BY6C8MOtFg"
      },
      "execution_count": 25,
      "outputs": []
    },
    {
      "cell_type": "code",
      "source": [
        "#gives an error\n",
        "c1 = MyAtm()"
      ],
      "metadata": {
        "colab": {
          "base_uri": "https://localhost:8080/",
          "height": 299
        },
        "id": "yq1EDxIqPOyb",
        "outputId": "af2e25a7-f39f-4a4c-aa03-8901178fca78"
      },
      "execution_count": 26,
      "outputs": [
        {
          "output_type": "error",
          "ename": "TypeError",
          "evalue": "ignored",
          "traceback": [
            "\u001b[0;31m---------------------------------------------------------------------------\u001b[0m",
            "\u001b[0;31mTypeError\u001b[0m                                 Traceback (most recent call last)",
            "\u001b[0;32m<ipython-input-26-072e67fcef3c>\u001b[0m in \u001b[0;36m<module>\u001b[0;34m\u001b[0m\n\u001b[0;32m----> 1\u001b[0;31m \u001b[0mc1\u001b[0m \u001b[0;34m=\u001b[0m \u001b[0mMyAtm\u001b[0m\u001b[0;34m(\u001b[0m\u001b[0;34m)\u001b[0m\u001b[0;34m\u001b[0m\u001b[0;34m\u001b[0m\u001b[0m\n\u001b[0m",
            "\u001b[0;32m<ipython-input-21-25bbad23195b>\u001b[0m in \u001b[0;36m__init__\u001b[0;34m(self)\u001b[0m\n\u001b[1;32m      9\u001b[0m     \u001b[0mself\u001b[0m\u001b[0;34m.\u001b[0m\u001b[0m__balance\u001b[0m \u001b[0;34m=\u001b[0m \u001b[0;36m100\u001b[0m\u001b[0;34m\u001b[0m\u001b[0;34m\u001b[0m\u001b[0m\n\u001b[1;32m     10\u001b[0m     \u001b[0mself\u001b[0m\u001b[0;34m.\u001b[0m\u001b[0mcustomer_id\u001b[0m \u001b[0;34m=\u001b[0m \u001b[0mMyAtm\u001b[0m\u001b[0;34m.\u001b[0m\u001b[0mcounter\u001b[0m\u001b[0;34m\u001b[0m\u001b[0;34m\u001b[0m\u001b[0m\n\u001b[0;32m---> 11\u001b[0;31m     \u001b[0mMyAtm\u001b[0m\u001b[0;34m.\u001b[0m\u001b[0mcounter\u001b[0m \u001b[0;34m=\u001b[0m \u001b[0mMyAtm\u001b[0m\u001b[0;34m.\u001b[0m\u001b[0mcounter\u001b[0m\u001b[0;34m+\u001b[0m\u001b[0;36m1\u001b[0m\u001b[0;34m\u001b[0m\u001b[0;34m\u001b[0m\u001b[0m\n\u001b[0m\u001b[1;32m     12\u001b[0m \u001b[0;34m\u001b[0m\u001b[0m\n\u001b[1;32m     13\u001b[0m \u001b[0;34m\u001b[0m\u001b[0m\n",
            "\u001b[0;31mTypeError\u001b[0m: can only concatenate str (not \"int\") to str"
          ]
        }
      ]
    },
    {
      "cell_type": "code",
      "source": [
        "#change to private\n",
        "\n",
        "class MyAtm:\n",
        "\n",
        "  #static variable\n",
        "  __counter = 1\n",
        "\n",
        "  # constructor\n",
        "  def __init__(self):\n",
        "    self.pin = '1234'\n",
        "    self.__balance = 100\n",
        "    self.customer_id = MyAtm.__counter\n",
        "    MyAtm.__counter = MyAtm.__counter+1\n",
        "\n",
        "  #utility function\n",
        "  @staticmethod\n",
        "  def get_counter():\n",
        "    return MyAtm.__counter\n",
        "\n",
        "  def set_counter(new_value):\n",
        "    if type(new_value) == int:\n",
        "        MyAtm.__counter = new_value\n",
        "    else:\n",
        "      print('ERROR ==> change data type to int')\n",
        "    \n",
        "\n",
        "  "
      ],
      "metadata": {
        "id": "STQwRb3xPSTm"
      },
      "execution_count": 30,
      "outputs": []
    },
    {
      "cell_type": "code",
      "source": [
        "c1 = MyAtm()\n",
        "c2 = MyAtm()\n",
        "c3 = MyAtm()"
      ],
      "metadata": {
        "id": "q33nY3EePcGt"
      },
      "execution_count": 31,
      "outputs": []
    },
    {
      "cell_type": "code",
      "source": [
        "print(c1.customer_id)\n",
        "print(c2.customer_id)\n",
        "print(c3.customer_id)"
      ],
      "metadata": {
        "colab": {
          "base_uri": "https://localhost:8080/"
        },
        "id": "WLtZCxbkPf9h",
        "outputId": "579280be-ed9c-4f23-dfee-0d9830cdfdaf"
      },
      "execution_count": 32,
      "outputs": [
        {
          "output_type": "stream",
          "name": "stdout",
          "text": [
            "1\n",
            "2\n",
            "3\n"
          ]
        }
      ]
    },
    {
      "cell_type": "code",
      "source": [
        "c1.get_counter()"
      ],
      "metadata": {
        "colab": {
          "base_uri": "https://localhost:8080/",
          "height": 171
        },
        "id": "Pp4Pb4CvPha8",
        "outputId": "722d7116-1bab-4cb6-b642-9d5e2c4c8953"
      },
      "execution_count": 33,
      "outputs": [
        {
          "output_type": "error",
          "ename": "TypeError",
          "evalue": "ignored",
          "traceback": [
            "\u001b[0;31m---------------------------------------------------------------------------\u001b[0m",
            "\u001b[0;31mTypeError\u001b[0m                                 Traceback (most recent call last)",
            "\u001b[0;32m<ipython-input-33-e3740219a44a>\u001b[0m in \u001b[0;36m<module>\u001b[0;34m\u001b[0m\n\u001b[0;32m----> 1\u001b[0;31m \u001b[0mc1\u001b[0m\u001b[0;34m.\u001b[0m\u001b[0mget_counter\u001b[0m\u001b[0;34m(\u001b[0m\u001b[0;34m)\u001b[0m\u001b[0;34m\u001b[0m\u001b[0;34m\u001b[0m\u001b[0m\n\u001b[0m",
            "\u001b[0;31mTypeError\u001b[0m: get_counter() takes 0 positional arguments but 1 was given"
          ]
        }
      ]
    },
    {
      "cell_type": "code",
      "source": [
        "#Since static variable are declared outside self....we use class name to access it \n",
        "# these are also called utility functions bcoz we donot require an object to access it\n",
        "MyAtm.get_counter()"
      ],
      "metadata": {
        "colab": {
          "base_uri": "https://localhost:8080/"
        },
        "id": "iyKcRJQTQa1n",
        "outputId": "17318635-e126-4880-fcc8-bd8a97795cae"
      },
      "execution_count": 35,
      "outputs": [
        {
          "output_type": "execute_result",
          "data": {
            "text/plain": [
              "4"
            ]
          },
          "metadata": {},
          "execution_count": 35
        }
      ]
    },
    {
      "cell_type": "code",
      "source": [
        "MyAtm.set_counter(12)"
      ],
      "metadata": {
        "id": "JJuWHV5wQcrv"
      },
      "execution_count": 36,
      "outputs": []
    },
    {
      "cell_type": "code",
      "source": [
        "MyAtm.get_counter()"
      ],
      "metadata": {
        "colab": {
          "base_uri": "https://localhost:8080/"
        },
        "id": "VZIHzXjWQw7V",
        "outputId": "20494049-e64b-477f-cbe6-1820c349c214"
      },
      "execution_count": 37,
      "outputs": [
        {
          "output_type": "execute_result",
          "data": {
            "text/plain": [
              "12"
            ]
          },
          "metadata": {},
          "execution_count": 37
        }
      ]
    },
    {
      "cell_type": "code",
      "source": [],
      "metadata": {
        "id": "OTyoS0jeQxaU"
      },
      "execution_count": null,
      "outputs": []
    }
  ]
}