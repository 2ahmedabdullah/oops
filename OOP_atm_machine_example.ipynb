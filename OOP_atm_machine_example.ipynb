{
  "cells": [
    {
      "cell_type": "code",
      "execution_count": 1,
      "metadata": {
        "id": "nn-eS-nvG-Fo"
      },
      "outputs": [],
      "source": [
        "#built-in class\n",
        "st = str()"
      ]
    },
    {
      "cell_type": "code",
      "execution_count": 2,
      "metadata": {
        "id": "LktWGj13HVA6"
      },
      "outputs": [],
      "source": [
        "#built-in class\n",
        "l = list()"
      ]
    },
    {
      "cell_type": "code",
      "execution_count": 3,
      "metadata": {
        "id": "m75kTMgUHWRC"
      },
      "outputs": [],
      "source": [
        "#user defined class\n",
        "\n",
        "class MyAtm:\n",
        "\n",
        "  # constructor\n",
        "  def __init__(self):\n",
        "    self.pin = ''\n",
        "    self.balance = 0\n"
      ]
    },
    {
      "cell_type": "code",
      "execution_count": 4,
      "metadata": {
        "id": "TEY_AcqcH9rQ"
      },
      "outputs": [],
      "source": [
        "obj = MyAtm()"
      ]
    },
    {
      "cell_type": "code",
      "execution_count": 5,
      "metadata": {
        "colab": {
          "base_uri": "https://localhost:8080/"
        },
        "id": "qF_Mr6pzIKje",
        "outputId": "fb535f10-5869-4af2-b416-2288772bbdd6"
      },
      "outputs": [
        {
          "output_type": "stream",
          "name": "stdout",
          "text": [
            "<class '__main__.MyAtm'>\n"
          ]
        }
      ],
      "source": [
        "print(type(obj))"
      ]
    },
    {
      "cell_type": "code",
      "execution_count": 6,
      "metadata": {
        "id": "Pc28QT6_INLI"
      },
      "outputs": [],
      "source": [
        "class MyAtm:\n",
        "\n",
        "  # constructor\n",
        "  def __init__(self):\n",
        "    self.pin = ''\n",
        "    self.balance = 0\n",
        "    self.menu()\n",
        "\n",
        "  def menu(self):\n",
        "    user_input = input(\"\"\"\n",
        "    Hi How can I help you ?\n",
        "    1) Press 1 to create pin.\n",
        "    2) Press 2 to change pin.\n",
        "    3) Press 3 to check balance.\n",
        "    4) Press 4 to withdraw.\n",
        "    5) Press exit to Exit.\n",
        "    \"\"\")"
      ]
    },
    {
      "cell_type": "code",
      "execution_count": 7,
      "metadata": {
        "colab": {
          "base_uri": "https://localhost:8080/"
        },
        "id": "pvsLjPnvKhOx",
        "outputId": "7871acfd-2801-4ec9-df44-43f522bad414"
      },
      "outputs": [
        {
          "name": "stdout",
          "output_type": "stream",
          "text": [
            "\n",
            "    Hi How can I help you ?\n",
            "    1) Press 1 to create pin.\n",
            "    2) Press 2 to change pin.\n",
            "    3) Press 3 to check balance.\n",
            "    4) Press 4 to withdraw.\n",
            "    5) Press exit to Exit.\n",
            "    1\n"
          ]
        }
      ],
      "source": [
        "obj = MyAtm()"
      ]
    },
    {
      "cell_type": "code",
      "execution_count": 8,
      "metadata": {
        "id": "ZpzmuPNgKjhI"
      },
      "outputs": [],
      "source": [
        "class MyAtm:\n",
        "\n",
        "  # constructor\n",
        "  def __init__(self):\n",
        "    self.pin = ''\n",
        "    self.balance = 0\n",
        "    self.menu()\n",
        "\n",
        "  def menu(self):\n",
        "    user_input = input(\"\"\"\n",
        "    Hi How can I help you ?\n",
        "    1) Press 1 to create pin.\n",
        "    2) Press 2 to change pin.\n",
        "    3) Press 3 to check balance.\n",
        "    4) Press 4 to withdraw.\n",
        "    5) Press exit to Exit.\n",
        "    \"\"\")\n",
        "\n",
        "    if user_input == '1':\n",
        "      self.create_pin()\n",
        "      #generate pin\n",
        "    if user_input == '1':\n",
        "      #change pin\n",
        "      pass\n",
        "    if user_input == '1':\n",
        "      #check balance\n",
        "      pass\n",
        "    if user_input == '1':\n",
        "      #withdraw\n",
        "      pass\n",
        "    else:\n",
        "      exit()\n",
        "\n",
        "  def create_pin(self):\n",
        "    user_pin = input('enter your 4 digit pin')\n",
        "    self.pin = user_pin\n",
        "\n",
        "    user_balance = input('enter your balance')\n",
        "    self.balance = user_balance\n",
        "\n",
        "    print('your pin has been created successfully')\n",
        "\n"
      ]
    },
    {
      "cell_type": "code",
      "execution_count": 9,
      "metadata": {
        "id": "6SBGkF6PMmhN",
        "colab": {
          "base_uri": "https://localhost:8080/"
        },
        "outputId": "c2c2ba71-b853-45f8-bbe2-8c9881170f80"
      },
      "outputs": [
        {
          "output_type": "stream",
          "name": "stdout",
          "text": [
            "\n",
            "    Hi How can I help you ?\n",
            "    1) Press 1 to create pin.\n",
            "    2) Press 2 to change pin.\n",
            "    3) Press 3 to check balance.\n",
            "    4) Press 4 to withdraw.\n",
            "    5) Press exit to Exit.\n",
            "    1\n",
            "enter your 4 digit pin1234\n",
            "enter your balance1000\n",
            "your pin has been created successfully\n"
          ]
        }
      ],
      "source": [
        "obj = MyAtm()"
      ]
    },
    {
      "cell_type": "code",
      "execution_count": 10,
      "metadata": {
        "id": "-PKC7ZyQMoUJ"
      },
      "outputs": [],
      "source": [
        "class MyAtm:\n",
        "\n",
        "  # constructor\n",
        "  def __init__(self):\n",
        "    self.pin = ''\n",
        "    self.balance = 0\n",
        "    self.menu()\n",
        "\n",
        "  def menu(self):\n",
        "    user_input = input(\"\"\"\n",
        "    Hi How can I help you ?\n",
        "    1) Press 1 to create pin.\n",
        "    2) Press 2 to change pin.\n",
        "    3) Press 3 to check balance.\n",
        "    4) Press 4 to withdraw.\n",
        "    5) Press exit to Exit.\n",
        "    \"\"\")\n",
        "\n",
        "    if user_input == '1':\n",
        "      #create pin\n",
        "      self.create_pin()\n",
        "\n",
        "    if user_input == '1':\n",
        "      #change pin\n",
        "      self.change_pin()\n",
        "      \n",
        "    if user_input == '1':\n",
        "      #check balance\n",
        "      pass\n",
        "\n",
        "    if user_input == '1':\n",
        "      #withdraw\n",
        "      pass\n",
        "      \n",
        "    else:\n",
        "      exit()\n",
        "\n",
        "  def create_pin(self):\n",
        "    user_pin = input('enter your 4 digit pin')\n",
        "    self.pin = user_pin\n",
        "\n",
        "    user_balance = input('enter your balance')\n",
        "    self.balance = user_balance\n",
        "\n",
        "    print('your pin has been created successfully')\n",
        "    self.menu()\n",
        "\n",
        "  def change_pin(self):\n",
        "    old_pin = input('please enter old pin')\n",
        "\n",
        "    if old_pin == self.pin:\n",
        "      new_pin = input('enter new pin')\n",
        "      self.pin = new_pin\n",
        "      print('your pin has been changed successfully')\n",
        "      self.menu()\n",
        "\n",
        "    else:\n",
        "      print('entered pin is incorrect, please try again')\n",
        "      self.menu()\n",
        "\n"
      ]
    },
    {
      "cell_type": "code",
      "execution_count": 11,
      "metadata": {
        "colab": {
          "base_uri": "https://localhost:8080/"
        },
        "id": "XK2a6Ng5NwQf",
        "outputId": "f629c036-7d26-46b0-b23e-79f9a46e2105"
      },
      "outputs": [
        {
          "name": "stdout",
          "output_type": "stream",
          "text": [
            "\n",
            "    Hi How can I help you ?\n",
            "    1) Press 1 to create pin.\n",
            "    2) Press 2 to change pin.\n",
            "    3) Press 3 to check balance.\n",
            "    4) Press 4 to withdraw.\n",
            "    5) Press exit to Exit.\n",
            "    1\n",
            "enter your 4 digit pin1234\n",
            "enter your balance100\n",
            "your pin has been created successfully\n",
            "\n",
            "    Hi How can I help you ?\n",
            "    1) Press 1 to create pin.\n",
            "    2) Press 2 to change pin.\n",
            "    3) Press 3 to check balance.\n",
            "    4) Press 4 to withdraw.\n",
            "    5) Press exit to Exit.\n",
            "    2\n",
            "please enter old pin123\n",
            "entered pin is incorrect, please try again\n",
            "\n",
            "    Hi How can I help you ?\n",
            "    1) Press 1 to create pin.\n",
            "    2) Press 2 to change pin.\n",
            "    3) Press 3 to check balance.\n",
            "    4) Press 4 to withdraw.\n",
            "    5) Press exit to Exit.\n",
            "    2\n"
          ]
        }
      ],
      "source": [
        "obj = MyAtm()"
      ]
    },
    {
      "cell_type": "code",
      "execution_count": 1,
      "metadata": {
        "id": "7rzSg1MCOKUC"
      },
      "outputs": [],
      "source": [
        "class MyAtm:\n",
        "\n",
        "  # constructor\n",
        "  def __init__(self):\n",
        "    self.pin = ''\n",
        "    self.balance = 0\n",
        "    self.menu()\n",
        "\n",
        "  def menu(self):\n",
        "    user_input = input(\"\"\"\n",
        "    Hi How can I help you ?\n",
        "    1) Press 1 to create pin.\n",
        "    2) Press 2 to change pin.\n",
        "    3) Press 3 to check balance.\n",
        "    4) Press 4 to withdraw.\n",
        "    5) Press exit to Exit.\n",
        "    \"\"\")\n",
        "\n",
        "    if user_input == '1':\n",
        "      #create pin\n",
        "      self.create_pin()\n",
        "\n",
        "    if user_input == '2':\n",
        "      #change pin\n",
        "      self.change_pin()\n",
        "      \n",
        "    if user_input == '3':\n",
        "      #check balance\n",
        "      self.check_balance()\n",
        "\n",
        "    if user_input == '4':\n",
        "      #withdraw\n",
        "      pass\n",
        "      \n",
        "    else:\n",
        "      exit()\n",
        "\n",
        "  def create_pin(self):\n",
        "    user_pin = input('enter your 4 digit pin')\n",
        "    self.pin = user_pin\n",
        "\n",
        "    user_balance = input('enter your balance')\n",
        "    self.balance = user_balance\n",
        "\n",
        "    print('your pin has been created successfully')\n",
        "    self.menu()\n",
        "\n",
        "  def change_pin(self):\n",
        "    old_pin = input('please enter old pin ')\n",
        "\n",
        "    if old_pin == self.pin:\n",
        "      new_pin = input('enter new pin')\n",
        "      self.pin = new_pin\n",
        "      print('your pin has been changed successfully')\n",
        "      self.menu()\n",
        "\n",
        "    else:\n",
        "      print('entered pin is incorrect, please try again')\n",
        "      self.menu()\n",
        "\n",
        "  def check_balance(self):\n",
        "    your_pin = input('please enter your pin')\n",
        "\n",
        "    if your_pin == self.pin:\n",
        "      print('your balance is:', self.balance)\n",
        "      self.menu()\n",
        "    \n",
        "    else:\n",
        "      print('entered pin is incorrect, please try again')\n",
        "      self.menu()\n",
        "\n",
        "\n"
      ]
    },
    {
      "cell_type": "code",
      "execution_count": 2,
      "metadata": {
        "id": "zomdvCiFPsTg",
        "colab": {
          "base_uri": "https://localhost:8080/"
        },
        "outputId": "f723dda9-ca95-4380-f1be-b95560194806"
      },
      "outputs": [
        {
          "name": "stdout",
          "output_type": "stream",
          "text": [
            "\n",
            "    Hi How can I help you ?\n",
            "    1) Press 1 to create pin.\n",
            "    2) Press 2 to change pin.\n",
            "    3) Press 3 to check balance.\n",
            "    4) Press 4 to withdraw.\n",
            "    5) Press exit to Exit.\n",
            "    1\n",
            "enter your 4 digit pin1234\n",
            "enter your balance100\n",
            "your pin has been created successfully\n",
            "\n",
            "    Hi How can I help you ?\n",
            "    1) Press 1 to create pin.\n",
            "    2) Press 2 to change pin.\n",
            "    3) Press 3 to check balance.\n",
            "    4) Press 4 to withdraw.\n",
            "    5) Press exit to Exit.\n",
            "    2\n",
            "please enter old pin 1235\n",
            "entered pin is incorrect, please try again\n",
            "\n",
            "    Hi How can I help you ?\n",
            "    1) Press 1 to create pin.\n",
            "    2) Press 2 to change pin.\n",
            "    3) Press 3 to check balance.\n",
            "    4) Press 4 to withdraw.\n",
            "    5) Press exit to Exit.\n",
            "    2\n",
            "please enter old pin 1234\n",
            "enter new pin4321\n",
            "your pin has been changed successfully\n",
            "\n",
            "    Hi How can I help you ?\n",
            "    1) Press 1 to create pin.\n",
            "    2) Press 2 to change pin.\n",
            "    3) Press 3 to check balance.\n",
            "    4) Press 4 to withdraw.\n",
            "    5) Press exit to Exit.\n",
            "    5\n"
          ]
        }
      ],
      "source": [
        "obj = MyAtm()"
      ]
    },
    {
      "cell_type": "code",
      "execution_count": 2,
      "metadata": {
        "id": "9UVwEK9LPuBD"
      },
      "outputs": [],
      "source": [
        "class MyAtm:\n",
        "\n",
        "  # constructor\n",
        "  def __init__(self):\n",
        "    self.pin = ''\n",
        "    self.balance = 0\n",
        "    self.menu()\n",
        "\n",
        "  def menu(self):\n",
        "    user_input = input(\"\"\"\n",
        "    Hi How can I help you ?\n",
        "    1) Press 1 to create pin.\n",
        "    2) Press 2 to change pin.\n",
        "    3) Press 3 to check balance.\n",
        "    4) Press 4 to withdraw.\n",
        "    5) Press exit to Exit.\n",
        "    \"\"\")\n",
        "\n",
        "    if user_input == '1':\n",
        "      #create pin\n",
        "      self.create_pin()\n",
        "\n",
        "    if user_input == '2':\n",
        "      #change pin\n",
        "      self.change_pin()\n",
        "      \n",
        "    if user_input == '3':\n",
        "      #check balance\n",
        "      self.check_balance()\n",
        "\n",
        "    if user_input == '4':\n",
        "      #withdraw\n",
        "      self.withdraw()\n",
        "      \n",
        "    else:\n",
        "      exit()\n",
        "\n",
        "\n",
        "  def create_pin(self):\n",
        "    user_pin = input('enter your 4 digit pin')\n",
        "    self.pin = user_pin\n",
        "\n",
        "    user_balance = int(input('enter your balance'))\n",
        "    self.balance = user_balance\n",
        "\n",
        "    print('your pin has been created successfully')\n",
        "    self.menu()\n",
        "\n",
        "\n",
        "\n",
        "  def change_pin(self):\n",
        "    old_pin = input('please enter old pin ')\n",
        "\n",
        "    if old_pin == self.pin:\n",
        "      new_pin = input('enter new pin')\n",
        "      self.pin = new_pin\n",
        "      print('your pin has been changed successfully')\n",
        "      self.menu()\n",
        "\n",
        "    else:\n",
        "      print('entered pin is incorrect, please try again')\n",
        "      self.menu()\n",
        "\n",
        "\n",
        "\n",
        "  def check_balance(self):\n",
        "    your_pin = input('please enter your pin')\n",
        "\n",
        "    if your_pin == self.pin:\n",
        "      print('your balance is:', self.balance)\n",
        "      self.menu()\n",
        "    \n",
        "    else:\n",
        "      print('entered pin is incorrect, please try again')\n",
        "      self.menu()\n",
        "\n",
        "\n",
        "  def withdraw(self):\n",
        "    your_pin = input('please enter your pin')\n",
        "\n",
        "    if your_pin == self.pin:\n",
        "      req = int(input('enter amount:'))\n",
        "      \n",
        "      if req <= self.balance:\n",
        "        self.balance = self.balance-req\n",
        "        print('you have successfully withdrawn: ', req)\n",
        "        print('balance left:', self.balance) \n",
        "      else:\n",
        "        print('entered amount is greater than balance')\n",
        "        print('please try again')\n",
        "\n",
        "    else:\n",
        "      print('entered pin is incorrect, please try again')\n",
        "    \n",
        "    self.menu()\n",
        "\n"
      ]
    },
    {
      "cell_type": "code",
      "execution_count": 3,
      "metadata": {
        "id": "-_Za0SU2Qirl",
        "colab": {
          "base_uri": "https://localhost:8080/"
        },
        "outputId": "1502a214-bb6b-45ca-d129-e1aea1827a3e"
      },
      "outputs": [
        {
          "name": "stdout",
          "output_type": "stream",
          "text": [
            "\n",
            "    Hi How can I help you ?\n",
            "    1) Press 1 to create pin.\n",
            "    2) Press 2 to change pin.\n",
            "    3) Press 3 to check balance.\n",
            "    4) Press 4 to withdraw.\n",
            "    5) Press exit to Exit.\n",
            "    1\n",
            "enter your 4 digit pin1234\n",
            "enter your balance1000\n",
            "your pin has been created successfully\n",
            "\n",
            "    Hi How can I help you ?\n",
            "    1) Press 1 to create pin.\n",
            "    2) Press 2 to change pin.\n",
            "    3) Press 3 to check balance.\n",
            "    4) Press 4 to withdraw.\n",
            "    5) Press exit to Exit.\n",
            "    3\n",
            "please enter your pin1234\n",
            "your balance is: 1000\n",
            "\n",
            "    Hi How can I help you ?\n",
            "    1) Press 1 to create pin.\n",
            "    2) Press 2 to change pin.\n",
            "    3) Press 3 to check balance.\n",
            "    4) Press 4 to withdraw.\n",
            "    5) Press exit to Exit.\n",
            "    4\n",
            "please enter your pin1234\n",
            "enter amount:22\n",
            "you have successfully withdrawn:  22\n",
            "balance left: 978\n",
            "\n",
            "    Hi How can I help you ?\n",
            "    1) Press 1 to create pin.\n",
            "    2) Press 2 to change pin.\n",
            "    3) Press 3 to check balance.\n",
            "    4) Press 4 to withdraw.\n",
            "    5) Press exit to Exit.\n",
            "    4\n",
            "please enter your pin4321\n",
            "entered pin is incorrect, please try again\n",
            "\n",
            "    Hi How can I help you ?\n",
            "    1) Press 1 to create pin.\n",
            "    2) Press 2 to change pin.\n",
            "    3) Press 3 to check balance.\n",
            "    4) Press 4 to withdraw.\n",
            "    5) Press exit to Exit.\n",
            "    4\n",
            "please enter your pin1234\n",
            "enter amount:99\n",
            "you have successfully withdrawn:  99\n",
            "balance left: 879\n",
            "\n",
            "    Hi How can I help you ?\n",
            "    1) Press 1 to create pin.\n",
            "    2) Press 2 to change pin.\n",
            "    3) Press 3 to check balance.\n",
            "    4) Press 4 to withdraw.\n",
            "    5) Press exit to Exit.\n",
            "    4\n",
            "please enter your pin1234\n",
            "enter amount:1000\n",
            "entered amount is greater than balance\n",
            "please try again\n",
            "\n",
            "    Hi How can I help you ?\n",
            "    1) Press 1 to create pin.\n",
            "    2) Press 2 to change pin.\n",
            "    3) Press 3 to check balance.\n",
            "    4) Press 4 to withdraw.\n",
            "    5) Press exit to Exit.\n",
            "    5\n"
          ]
        }
      ],
      "source": [
        "obj = MyAtm()"
      ]
    },
    {
      "cell_type": "code",
      "execution_count": 4,
      "metadata": {
        "id": "xPjy-GuGSD1P"
      },
      "outputs": [],
      "source": [
        "class Fraction:\n",
        "\n",
        "  def __init__(self, x, y):\n",
        "    self.num = x\n",
        "    self.deno = y\n",
        "\n",
        "  def __str__(self):\n",
        "    return '{}/{}'.format(self.num, self.deno)\n",
        "\n",
        "  def __add__(self, other):\n",
        "    new_num = self.num*other.deno+self.deno*other.num\n",
        "    new_deno = self.deno * other.deno\n",
        "    return '{}/{}'.format(new_num, new_deno)\n",
        "\n",
        "\n"
      ]
    },
    {
      "cell_type": "code",
      "execution_count": 11,
      "metadata": {
        "id": "5Maz9DnzhYJf"
      },
      "outputs": [],
      "source": [
        "f1 = Fraction(2,3)\n",
        "f2 = Fraction(3,4)"
      ]
    },
    {
      "cell_type": "code",
      "execution_count": 12,
      "metadata": {
        "id": "v_n8CfZXhbmG",
        "colab": {
          "base_uri": "https://localhost:8080/"
        },
        "outputId": "c508791a-e0db-4d47-f449-966d48850325"
      },
      "outputs": [
        {
          "output_type": "stream",
          "name": "stdout",
          "text": [
            "2/3\n",
            "3/4\n"
          ]
        },
        {
          "output_type": "execute_result",
          "data": {
            "text/plain": [
              "(None, None)"
            ]
          },
          "metadata": {},
          "execution_count": 12
        }
      ],
      "source": [
        "print(f1), print(f2)"
      ]
    },
    {
      "cell_type": "code",
      "execution_count": 13,
      "metadata": {
        "id": "8OXHT-fshdFq",
        "colab": {
          "base_uri": "https://localhost:8080/",
          "height": 36
        },
        "outputId": "f55ee96d-29be-48cf-8f67-7a353e69d451"
      },
      "outputs": [
        {
          "output_type": "execute_result",
          "data": {
            "text/plain": [
              "'17/12'"
            ],
            "application/vnd.google.colaboratory.intrinsic+json": {
              "type": "string"
            }
          },
          "metadata": {},
          "execution_count": 13
        }
      ],
      "source": [
        "f1+f2"
      ]
    },
    {
      "cell_type": "code",
      "source": [],
      "metadata": {
        "id": "rdo3dT2-UXEa"
      },
      "execution_count": null,
      "outputs": []
    }
  ],
  "metadata": {
    "colab": {
      "provenance": []
    },
    "kernelspec": {
      "display_name": "Python 3",
      "name": "python3"
    },
    "language_info": {
      "name": "python"
    }
  },
  "nbformat": 4,
  "nbformat_minor": 0
}